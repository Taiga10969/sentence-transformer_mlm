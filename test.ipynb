{
 "cells": [
  {
   "cell_type": "markdown",
   "metadata": {},
   "source": [
    "# ForMaskedLMモデルで学習した学習モデルを，AutoModelで読み込んだモデルで読み込もう!"
   ]
  },
  {
   "cell_type": "code",
   "execution_count": 1,
   "metadata": {},
   "outputs": [],
   "source": [
    "# 必要ライブラリのインポート\n",
    "import torch\n",
    "from torchinfo import summary\n",
    "from transformers import AutoModelForMaskedLM, AutoModel, AutoTokenizer"
   ]
  },
  {
   "cell_type": "markdown",
   "metadata": {},
   "source": [
    "# モデルの用意\n",
    "`model_MLM`:AutoModelForMaskedLMで読み込んだモデル<br>\n",
    "`model`:AutoModelで読み込んだモデル"
   ]
  },
  {
   "cell_type": "code",
   "execution_count": 2,
   "metadata": {},
   "outputs": [
    {
     "name": "stderr",
     "output_type": "stream",
     "text": [
      "Some weights of the model checkpoint at bert-base-uncased were not used when initializing BertForMaskedLM: ['bert.pooler.dense.bias', 'bert.pooler.dense.weight', 'cls.seq_relationship.bias', 'cls.seq_relationship.weight']\n",
      "- This IS expected if you are initializing BertForMaskedLM from the checkpoint of a model trained on another task or with another architecture (e.g. initializing a BertForSequenceClassification model from a BertForPreTraining model).\n",
      "- This IS NOT expected if you are initializing BertForMaskedLM from the checkpoint of a model that you expect to be exactly identical (initializing a BertForSequenceClassification model from a BertForSequenceClassification model).\n"
     ]
    }
   ],
   "source": [
    "# Load the model\n",
    "model_name = 'bert-base-uncased'\n",
    "model_MLM = AutoModelForMaskedLM.from_pretrained(model_name)\n",
    "model = AutoModel.from_pretrained(model_name)"
   ]
  },
  {
   "cell_type": "markdown",
   "metadata": {},
   "source": [
    "## モデル構造の比較"
   ]
  },
  {
   "cell_type": "code",
   "execution_count": 3,
   "metadata": {},
   "outputs": [
    {
     "name": "stdout",
     "output_type": "stream",
     "text": [
      "BertForMaskedLM(\n",
      "  (bert): BertModel(\n",
      "    (embeddings): BertEmbeddings(\n",
      "      (word_embeddings): Embedding(30522, 768, padding_idx=0)\n",
      "      (position_embeddings): Embedding(512, 768)\n",
      "      (token_type_embeddings): Embedding(2, 768)\n",
      "      (LayerNorm): LayerNorm((768,), eps=1e-12, elementwise_affine=True)\n",
      "      (dropout): Dropout(p=0.1, inplace=False)\n",
      "    )\n",
      "    (encoder): BertEncoder(\n",
      "      (layer): ModuleList(\n",
      "        (0-11): 12 x BertLayer(\n",
      "          (attention): BertAttention(\n",
      "            (self): BertSdpaSelfAttention(\n",
      "              (query): Linear(in_features=768, out_features=768, bias=True)\n",
      "              (key): Linear(in_features=768, out_features=768, bias=True)\n",
      "              (value): Linear(in_features=768, out_features=768, bias=True)\n",
      "              (dropout): Dropout(p=0.1, inplace=False)\n",
      "            )\n",
      "            (output): BertSelfOutput(\n",
      "              (dense): Linear(in_features=768, out_features=768, bias=True)\n",
      "              (LayerNorm): LayerNorm((768,), eps=1e-12, elementwise_affine=True)\n",
      "              (dropout): Dropout(p=0.1, inplace=False)\n",
      "            )\n",
      "          )\n",
      "          (intermediate): BertIntermediate(\n",
      "            (dense): Linear(in_features=768, out_features=3072, bias=True)\n",
      "            (intermediate_act_fn): GELUActivation()\n",
      "          )\n",
      "          (output): BertOutput(\n",
      "            (dense): Linear(in_features=3072, out_features=768, bias=True)\n",
      "            (LayerNorm): LayerNorm((768,), eps=1e-12, elementwise_affine=True)\n",
      "            (dropout): Dropout(p=0.1, inplace=False)\n",
      "          )\n",
      "        )\n",
      "      )\n",
      "    )\n",
      "  )\n",
      "  (cls): BertOnlyMLMHead(\n",
      "    (predictions): BertLMPredictionHead(\n",
      "      (transform): BertPredictionHeadTransform(\n",
      "        (dense): Linear(in_features=768, out_features=768, bias=True)\n",
      "        (transform_act_fn): GELUActivation()\n",
      "        (LayerNorm): LayerNorm((768,), eps=1e-12, elementwise_affine=True)\n",
      "      )\n",
      "      (decoder): Linear(in_features=768, out_features=30522, bias=True)\n",
      "    )\n",
      "  )\n",
      ")\n",
      "========================================================================================================================================================================================================\n",
      "BertModel(\n",
      "  (embeddings): BertEmbeddings(\n",
      "    (word_embeddings): Embedding(30522, 768, padding_idx=0)\n",
      "    (position_embeddings): Embedding(512, 768)\n",
      "    (token_type_embeddings): Embedding(2, 768)\n",
      "    (LayerNorm): LayerNorm((768,), eps=1e-12, elementwise_affine=True)\n",
      "    (dropout): Dropout(p=0.1, inplace=False)\n",
      "  )\n",
      "  (encoder): BertEncoder(\n",
      "    (layer): ModuleList(\n",
      "      (0-11): 12 x BertLayer(\n",
      "        (attention): BertAttention(\n",
      "          (self): BertSdpaSelfAttention(\n",
      "            (query): Linear(in_features=768, out_features=768, bias=True)\n",
      "            (key): Linear(in_features=768, out_features=768, bias=True)\n",
      "            (value): Linear(in_features=768, out_features=768, bias=True)\n",
      "            (dropout): Dropout(p=0.1, inplace=False)\n",
      "          )\n",
      "          (output): BertSelfOutput(\n",
      "            (dense): Linear(in_features=768, out_features=768, bias=True)\n",
      "            (LayerNorm): LayerNorm((768,), eps=1e-12, elementwise_affine=True)\n",
      "            (dropout): Dropout(p=0.1, inplace=False)\n",
      "          )\n",
      "        )\n",
      "        (intermediate): BertIntermediate(\n",
      "          (dense): Linear(in_features=768, out_features=3072, bias=True)\n",
      "          (intermediate_act_fn): GELUActivation()\n",
      "        )\n",
      "        (output): BertOutput(\n",
      "          (dense): Linear(in_features=3072, out_features=768, bias=True)\n",
      "          (LayerNorm): LayerNorm((768,), eps=1e-12, elementwise_affine=True)\n",
      "          (dropout): Dropout(p=0.1, inplace=False)\n",
      "        )\n",
      "      )\n",
      "    )\n",
      "  )\n",
      "  (pooler): BertPooler(\n",
      "    (dense): Linear(in_features=768, out_features=768, bias=True)\n",
      "    (activation): Tanh()\n",
      "  )\n",
      ")\n"
     ]
    }
   ],
   "source": [
    "print(model_MLM)\n",
    "print(\"=\"*200)\n",
    "print(model)"
   ]
  },
  {
   "cell_type": "markdown",
   "metadata": {},
   "source": [
    "ここから確認すると，<br>\n",
    "```\n",
    "BertForMaskedLM(\n",
    "  (bert): BertModel(\n",
    "```\n",
    "\n",
    "から，`BertForMaskedLM.bert`に`BertModel`が入っていることが確認できる．"
   ]
  },
  {
   "cell_type": "code",
   "execution_count": 4,
   "metadata": {},
   "outputs": [
    {
     "data": {
      "text/plain": [
       "================================================================================\n",
       "Layer (type:depth-idx)                                  Param #\n",
       "================================================================================\n",
       "BertModel                                               --\n",
       "├─BertEmbeddings: 1-1                                   --\n",
       "│    └─Embedding: 2-1                                   23,440,896\n",
       "│    └─Embedding: 2-2                                   393,216\n",
       "│    └─Embedding: 2-3                                   1,536\n",
       "│    └─LayerNorm: 2-4                                   1,536\n",
       "│    └─Dropout: 2-5                                     --\n",
       "├─BertEncoder: 1-2                                      --\n",
       "│    └─ModuleList: 2-6                                  --\n",
       "│    │    └─BertLayer: 3-1                              7,087,872\n",
       "│    │    └─BertLayer: 3-2                              7,087,872\n",
       "│    │    └─BertLayer: 3-3                              7,087,872\n",
       "│    │    └─BertLayer: 3-4                              7,087,872\n",
       "│    │    └─BertLayer: 3-5                              7,087,872\n",
       "│    │    └─BertLayer: 3-6                              7,087,872\n",
       "│    │    └─BertLayer: 3-7                              7,087,872\n",
       "│    │    └─BertLayer: 3-8                              7,087,872\n",
       "│    │    └─BertLayer: 3-9                              7,087,872\n",
       "│    │    └─BertLayer: 3-10                             7,087,872\n",
       "│    │    └─BertLayer: 3-11                             7,087,872\n",
       "│    │    └─BertLayer: 3-12                             7,087,872\n",
       "================================================================================\n",
       "Total params: 108,891,648\n",
       "Trainable params: 108,891,648\n",
       "Non-trainable params: 0\n",
       "================================================================================"
      ]
     },
     "execution_count": 4,
     "metadata": {},
     "output_type": "execute_result"
    }
   ],
   "source": [
    "summary(model_MLM.bert)"
   ]
  },
  {
   "cell_type": "code",
   "execution_count": 5,
   "metadata": {},
   "outputs": [
    {
     "data": {
      "text/plain": [
       "================================================================================\n",
       "Layer (type:depth-idx)                                  Param #\n",
       "================================================================================\n",
       "BertModel                                               --\n",
       "├─BertEmbeddings: 1-1                                   --\n",
       "│    └─Embedding: 2-1                                   23,440,896\n",
       "│    └─Embedding: 2-2                                   393,216\n",
       "│    └─Embedding: 2-3                                   1,536\n",
       "│    └─LayerNorm: 2-4                                   1,536\n",
       "│    └─Dropout: 2-5                                     --\n",
       "├─BertEncoder: 1-2                                      --\n",
       "│    └─ModuleList: 2-6                                  --\n",
       "│    │    └─BertLayer: 3-1                              7,087,872\n",
       "│    │    └─BertLayer: 3-2                              7,087,872\n",
       "│    │    └─BertLayer: 3-3                              7,087,872\n",
       "│    │    └─BertLayer: 3-4                              7,087,872\n",
       "│    │    └─BertLayer: 3-5                              7,087,872\n",
       "│    │    └─BertLayer: 3-6                              7,087,872\n",
       "│    │    └─BertLayer: 3-7                              7,087,872\n",
       "│    │    └─BertLayer: 3-8                              7,087,872\n",
       "│    │    └─BertLayer: 3-9                              7,087,872\n",
       "│    │    └─BertLayer: 3-10                             7,087,872\n",
       "│    │    └─BertLayer: 3-11                             7,087,872\n",
       "│    │    └─BertLayer: 3-12                             7,087,872\n",
       "├─BertPooler: 1-3                                       --\n",
       "│    └─Linear: 2-7                                      590,592\n",
       "│    └─Tanh: 2-8                                        --\n",
       "================================================================================\n",
       "Total params: 109,482,240\n",
       "Trainable params: 109,482,240\n",
       "Non-trainable params: 0\n",
       "================================================================================"
      ]
     },
     "execution_count": 5,
     "metadata": {},
     "output_type": "execute_result"
    }
   ],
   "source": [
    "summary(model)"
   ]
  },
  {
   "cell_type": "markdown",
   "metadata": {},
   "source": [
    "summaryで，`model_MLM.bert`と`model`のモデル構造は，BertPoolerの有無のみの違いで他の構造は同じであることがわかる．"
   ]
  },
  {
   "cell_type": "markdown",
   "metadata": {},
   "source": [
    "## モデルの保存方法\n",
    "これまでの調査より，`BertForMaskedLM.bert`に`BertModel`が入っていることが確認できる．<br>\n",
    "また，`model_MLM.bert`と`model`のモデル構造は，BertPoolerの有無のみの違いで他の構造は同じであることがわかる．"
   ]
  },
  {
   "cell_type": "code",
   "execution_count": 6,
   "metadata": {},
   "outputs": [],
   "source": [
    "#とりあえず，test_model.pthとして保存\n",
    "torch.save(model_MLM.bert.to('cpu').state_dict(),'test_model.pth')"
   ]
  },
  {
   "cell_type": "markdown",
   "metadata": {},
   "source": [
    "## モデルの読み込み"
   ]
  },
  {
   "cell_type": "code",
   "execution_count": 7,
   "metadata": {},
   "outputs": [
    {
     "name": "stdout",
     "output_type": "stream",
     "text": [
      "msg :  _IncompatibleKeys(missing_keys=['pooler.dense.weight', 'pooler.dense.bias'], unexpected_keys=[])\n"
     ]
    }
   ],
   "source": [
    "# モデルの状態をロード\n",
    "state_dict = torch.load('test_model.pth')\n",
    "msg = model.load_state_dict(state_dict, strict=False)\n",
    "print(\"msg : \", msg)"
   ]
  },
  {
   "cell_type": "markdown",
   "metadata": {},
   "source": [
    "_IncompatibleKeysとして，Pooler部分のみ読み込みできなかっただけで，その他はできていることを確認しました．"
   ]
  },
  {
   "cell_type": "markdown",
   "metadata": {},
   "source": [
    "## 同じことを，sentence-transformerでやってみよう！"
   ]
  },
  {
   "cell_type": "code",
   "execution_count": 8,
   "metadata": {},
   "outputs": [
    {
     "name": "stderr",
     "output_type": "stream",
     "text": [
      "Some weights of the model checkpoint at sentence-transformers/all-mpnet-base-v2 were not used when initializing MPNetForMaskedLM: ['pooler.dense.bias', 'pooler.dense.weight']\n",
      "- This IS expected if you are initializing MPNetForMaskedLM from the checkpoint of a model trained on another task or with another architecture (e.g. initializing a BertForSequenceClassification model from a BertForPreTraining model).\n",
      "- This IS NOT expected if you are initializing MPNetForMaskedLM from the checkpoint of a model that you expect to be exactly identical (initializing a BertForSequenceClassification model from a BertForSequenceClassification model).\n",
      "Some weights of MPNetForMaskedLM were not initialized from the model checkpoint at sentence-transformers/all-mpnet-base-v2 and are newly initialized: ['lm_head.bias', 'lm_head.decoder.bias', 'lm_head.dense.bias', 'lm_head.dense.weight', 'lm_head.layer_norm.bias', 'lm_head.layer_norm.weight']\n",
      "You should probably TRAIN this model on a down-stream task to be able to use it for predictions and inference.\n"
     ]
    }
   ],
   "source": [
    "model_name=\"sentence-transformers/all-mpnet-base-v2\"\n",
    "model_MLM = AutoModelForMaskedLM.from_pretrained(model_name)\n",
    "model = AutoModel.from_pretrained(model_name)"
   ]
  },
  {
   "cell_type": "code",
   "execution_count": 9,
   "metadata": {},
   "outputs": [],
   "source": [
    "torch.save(model_MLM.mpnet.to('cpu').state_dict(),'test_mpnet.pth')"
   ]
  },
  {
   "cell_type": "code",
   "execution_count": 10,
   "metadata": {},
   "outputs": [
    {
     "name": "stdout",
     "output_type": "stream",
     "text": [
      "msg :  _IncompatibleKeys(missing_keys=['pooler.dense.weight', 'pooler.dense.bias'], unexpected_keys=[])\n"
     ]
    }
   ],
   "source": [
    "# モデルの状態をロード\n",
    "state_dict = torch.load('test_mpnet.pth')\n",
    "msg = model.load_state_dict(state_dict, strict=False)\n",
    "print(\"msg : \", msg)"
   ]
  },
  {
   "cell_type": "markdown",
   "metadata": {},
   "source": [
    "## 高本さんの保存方法での読み込み方法模索"
   ]
  },
  {
   "cell_type": "code",
   "execution_count": 11,
   "metadata": {},
   "outputs": [],
   "source": [
    "model_MLM.save_pretrained('./output_test')"
   ]
  },
  {
   "cell_type": "code",
   "execution_count": 23,
   "metadata": {},
   "outputs": [],
   "source": [
    "from safetensors.torch import load_file\n",
    "\n",
    "model_path = \"/taiga/sentence-transformers_mlm/output_test/model.safetensors\"\n",
    "state_dict = load_file(model_path)"
   ]
  },
  {
   "cell_type": "markdown",
   "metadata": {},
   "source": [
    "正しいキーへのマッピング"
   ]
  },
  {
   "cell_type": "code",
   "execution_count": 24,
   "metadata": {},
   "outputs": [],
   "source": [
    "mpnet_state_dict = {}\n",
    "for key, value in state_dict.items():\n",
    "    if key.startswith(\"mpnet.\"):\n",
    "        mpnet_state_dict[key.replace(\"mpnet.\", \"\")] = value"
   ]
  },
  {
   "cell_type": "code",
   "execution_count": 25,
   "metadata": {},
   "outputs": [
    {
     "name": "stdout",
     "output_type": "stream",
     "text": [
      "Missing keys: ['pooler.dense.weight', 'pooler.dense.bias']\n"
     ]
    }
   ],
   "source": [
    "missing_keys, unexpected_keys = model.load_state_dict(mpnet_state_dict, strict=False)\n",
    "\n",
    "# 欠落しているキーと予期しないキーを出力\n",
    "if missing_keys:\n",
    "    print(f\"Missing keys: {missing_keys}\")\n",
    "if unexpected_keys:\n",
    "    print(f\"Unexpected keys: {unexpected_keys}\")"
   ]
  },
  {
   "cell_type": "markdown",
   "metadata": {},
   "source": [
    "`missing_keys`: モデルに必要なキーがステートディクショナリに含まれていない場合のキーがリスト．<br>\n",
    "ロードしようとしているモデルのパラメータの一部がステートディクショナリから見つからなかった場合にこのリストに追加.<br>\n",
    "<br>\n",
    "`unexpected_keys`: ステートディクショナリに含まれているがロードしようとしているモデルに必要ないキーのリスト．<br>\n",
    "ステートディクショナリに余計なパラメータが含まれている場合にこのリストに追加.<br>"
   ]
  }
 ],
 "metadata": {
  "kernelspec": {
   "display_name": "Python 3",
   "language": "python",
   "name": "python3"
  },
  "language_info": {
   "codemirror_mode": {
    "name": "ipython",
    "version": 3
   },
   "file_extension": ".py",
   "mimetype": "text/x-python",
   "name": "python",
   "nbconvert_exporter": "python",
   "pygments_lexer": "ipython3",
   "version": "3.10.6"
  }
 },
 "nbformat": 4,
 "nbformat_minor": 2
}
